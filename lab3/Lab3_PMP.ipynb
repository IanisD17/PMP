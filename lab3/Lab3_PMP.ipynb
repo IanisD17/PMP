{
  "nbformat": 4,
  "nbformat_minor": 0,
  "metadata": {
    "colab": {
      "provenance": []
    },
    "kernelspec": {
      "name": "python3",
      "display_name": "Python 3"
    },
    "language_info": {
      "name": "python"
    }
  },
  "cells": [
    {
      "cell_type": "code",
      "execution_count": 84,
      "metadata": {
        "colab": {
          "base_uri": "https://localhost:8080/"
        },
        "id": "HA1fZK1NBblc",
        "outputId": "52758c8f-d5de-46cf-9e14-7cc98f662722"
      },
      "outputs": [
        {
          "output_type": "stream",
          "name": "stdout",
          "text": [
            "(O ⟂ M, L | S)\n",
            "(L ⟂ O | S)\n",
            "(M ⟂ O | S, L)\n"
          ]
        }
      ],
      "source": [
        "# 1.a)\n",
        "\n",
        "from pgmpy.models import DiscreteBayesianNetwork # ImportError: BayesianNetwork has been deprecated. Please use DiscreteBayesianNetwork instead.\n",
        "from pgmpy.factors.discrete import TabularCPD\n",
        "\n",
        "model=DiscreteBayesianNetwork([('S', 'O'), ('S', 'L'), ('S', 'M'), ('L', 'M')])\n",
        "\n",
        "# P(S = 1) = 0.4, P(S = 0) = 0.6\n",
        "CPD_S=TabularCPD(variable='S',variable_card= 2,values= [[0.6], [0.4]])\n",
        "\n",
        "# P(O = 1∣S = 1) = 0.7, P(O = 1∣S = 0) = 0.1\n",
        "CPD_O=TabularCPD(variable='O', variable_card=2,values=[[0.9, 0.3], [0.1, 0.7]],evidence=['S'], evidence_card=[2])\n",
        "\n",
        "#  P(L = 1∣S = 1) = 0.8, P(L = 1∣S = 0) = 0.3\n",
        "CPD_L=TabularCPD(variable='L',variable_card=2,values=[[0.7, 0.2],[0.3, 0.8]], evidence=['S'], evidence_card=[2])\n",
        "\n",
        "# P(M = 1∣S = 1, L = 1) = 0.9, P(M = 1∣S = 1, L = 0) = 0.5\n",
        "# P(M = 1∣S = 0, L = 1) = 0.6, P(M = 1∣S = 0, L = 0) = 0.2\n",
        "CPD_M=TabularCPD(variable='M',variable_card=2,values=[[0.8, 0.4, 0.9, 0.5], [0.2, 0.6, 0.1, 0.5]], evidence=['S', 'L'], evidence_card=[2, 2])\n",
        "\n",
        "model.add_cpds(CPD_S,CPD_O,CPD_L,CPD_M)\n",
        "\n",
        "model.check_model()\n",
        "\n",
        "print(model.local_independencies(['O','L','M']))"
      ]
    },
    {
      "cell_type": "code",
      "source": [
        "#1.b)\n",
        "\n",
        "# probabilitati\n",
        "P_S = {0:0.6, 1:0.4}\n",
        "P_O_stiind_S = {0:{0:0.9,1:0.1}, 1:{0:0.3,1:0.7}}\n",
        "P_L_stiind_S = {0:{0:0.7,1:0.3}, 1:{0:0.2,1:0.8}}\n",
        "P_M_stiind_SL = {(0,0):{0:0.8,1:0.2}, (0,1):{0:0.4,1:0.6}, (1,0):{0:0.5,1:0.5}, (1,1):{0:0.1,1:0.9}}\n",
        "\n",
        "o = 1  # contine \"offer\"\n",
        "l = 1  # are link\n",
        "m = 1  # email lung\n",
        "\n",
        "# calculam scorul pentru spam si non-spam\n",
        "scor0 = P_S[0]*P_O_stiind_S[0][o]*P_L_stiind_S[0][l]*P_M_stiind_SL[(0,l)][m]\n",
        "scor1 = P_S[1]*P_O_stiind_S[1][o]*P_L_stiind_S[1][l]*P_M_stiind_SL[(1,l)][m]\n",
        "\n",
        "total = scor0 + scor1\n",
        "p0 = scor0/total\n",
        "p1 = scor1/total\n",
        "\n",
        "if p1>p0:\n",
        "    pred = 1\n",
        "else:\n",
        "    pred = 0\n",
        "\n",
        "print(\"P(Non-Spam) =\", p0)\n",
        "print(\"P(Spam) =\", p1)\n",
        "if pred==1:\n",
        "    print(\"SPAM\")\n",
        "else:\n",
        "    print(\"NON-SPAM\")\n"
      ],
      "metadata": {
        "colab": {
          "base_uri": "https://localhost:8080/"
        },
        "id": "n8I7ZM9QK1UK",
        "outputId": "552ad91e-45b6-489d-f43b-ba4cbec8860f"
      },
      "execution_count": 85,
      "outputs": [
        {
          "output_type": "stream",
          "name": "stdout",
          "text": [
            "P(Non-Spam) = 0.05084745762711865\n",
            "P(Spam) = 0.9491525423728814\n",
            "SPAM\n"
          ]
        }
      ]
    },
    {
      "cell_type": "code",
      "source": [
        "# 2\n",
        "\n",
        "\n",
        "from pgmpy.models import DiscreteBayesianNetwork\n",
        "from pgmpy.factors.discrete import TabularCPD\n",
        "from pgmpy.inference import VariableElimination\n",
        "\n",
        "model = DiscreteBayesianNetwork([('Dice', 'Ball')])\n",
        "\n",
        "cpd_dice = TabularCPD('Dice', 6, [[1/6],[1/6],[1/6],[1/6],[1/6],[1/6]])\n",
        "\n",
        "cpd_ball = TabularCPD('Ball', 3,\n",
        "    [\n",
        "        [3/10,3/10,3/10,3/10,3/10,4/10],  # rous\n",
        "        [4/10,4/10,4/10,5/10,4/10,4/10],  # albastru\n",
        "        [3/10,3/10,3/10,2/10,3/10,2/10]   # negru\n",
        "    ],\n",
        "    evidence=['Dice'], evidence_card=[6]\n",
        ")\n",
        "\n",
        "model.add_cpds(cpd_dice, cpd_ball)\n",
        "\n",
        "model.check_model()\n",
        "\n",
        "tab=VariableElimination(model)\n",
        "res=tab.query(['Ball'])\n",
        "print(res)\n"
      ],
      "metadata": {
        "colab": {
          "base_uri": "https://localhost:8080/"
        },
        "id": "LMQMxIvoNz2H",
        "outputId": "8c8b14b3-29c5-4c34-825b-6904287eb661"
      },
      "execution_count": 86,
      "outputs": [
        {
          "output_type": "stream",
          "name": "stdout",
          "text": [
            "+---------+-------------+\n",
            "| Ball    |   phi(Ball) |\n",
            "+=========+=============+\n",
            "| Ball(0) |      0.3167 |\n",
            "+---------+-------------+\n",
            "| Ball(1) |      0.4167 |\n",
            "+---------+-------------+\n",
            "| Ball(2) |      0.2667 |\n",
            "+---------+-------------+\n"
          ]
        }
      ]
    },
    {
      "cell_type": "code",
      "source": [],
      "metadata": {
        "id": "czoYV2iiSaqG"
      },
      "execution_count": 86,
      "outputs": []
    }
  ]
}